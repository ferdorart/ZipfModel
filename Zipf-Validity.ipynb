{
 "cells": [
  {
   "cell_type": "code",
   "execution_count": 1,
   "metadata": {
    "collapsed": true
   },
   "outputs": [],
   "source": [
    "import pandas as pd\n",
    "import numpy as np\n",
    "from scipy.stats import norm\n",
    "import random\n",
    "import statistics as st\n",
    "from matplotlib import pyplot as plt\n",
    "import seaborn as sns\n",
    "import scipy as sp\n",
    "from scipy import stats"
   ]
  },
  {
   "cell_type": "code",
   "execution_count": 2,
   "metadata": {
    "collapsed": true
   },
   "outputs": [],
   "source": [
    "novice_token =  pd.read_csv(r'...\\Dataset\\novice_syn_data.csv')"
   ]
  },
  {
   "cell_type": "code",
   "execution_count": 3,
   "metadata": {
    "collapsed": true
   },
   "outputs": [],
   "source": [
    "expert_token =  pd.read_csv(r'...\\Dataset\\expert_syn_data.csv')"
   ]
  },
  {
   "cell_type": "code",
   "execution_count": 5,
   "metadata": {
    "collapsed": true
   },
   "outputs": [],
   "source": [
    "def logML(a):  \n",
    "    pro = -a*np.log(rank) - np.log(np.sum(1/rank**a))\n",
    "    \n",
    "\n",
    "    # Multiply the vector by frequencies\n",
    "    Lvector =pro * frequency\n",
    "\n",
    "    # LL is the sum\n",
    "    L = Lvector.sum()\n",
    "\n",
    "    # We want to maximize LogLikelihood or minimize (-1)*LogLikelihood\n",
    "    return(-L)"
   ]
  },
  {
   "cell_type": "code",
   "execution_count": 6,
   "metadata": {
    "collapsed": true
   },
   "outputs": [],
   "source": [
    "novice_dt = novice_token.groupby('Author').sum().reset_index()"
   ]
  },
  {
   "cell_type": "code",
   "execution_count": 7,
   "metadata": {
    "collapsed": true
   },
   "outputs": [],
   "source": [
    "nov_freq = novice_dt.drop(['Author'],axis=1)"
   ]
  },
  {
   "cell_type": "code",
   "execution_count": 8,
   "metadata": {
    "collapsed": true
   },
   "outputs": [],
   "source": [
    "expert_dt = expert_token.groupby('Author').sum().reset_index()"
   ]
  },
  {
   "cell_type": "code",
   "execution_count": 9,
   "metadata": {
    "collapsed": true
   },
   "outputs": [],
   "source": [
    "zipf_novice = pd.DataFrame(columns=['alpha','beta','sample_size','rank'])"
   ]
  },
  {
   "cell_type": "code",
   "execution_count": 10,
   "metadata": {
    "collapsed": true
   },
   "outputs": [],
   "source": [
    "def zipflaw(dt):\n",
    "    zipf_dt = pd.DataFrame(columns=['Frequency'])\n",
    "    nov_freq = dt.drop(['Author'])\n",
    "    temp2=nov_freq[nov_freq!=0].sort_values(ascending=False).reset_index()\n",
    "    frequency = temp2[temp2.columns[1]]\n",
    "    probability = frequency/np.sum(frequency)\n",
    "    zipf_dt['Frequency'] = frequency\n",
    "    zipf_dt['Probability'] = probability\n",
    "    rank=np.array(range(1,len(temp2)+1))\n",
    "    zipf_dt['rank'] = rank\n",
    "    initial = (1,1)\n",
    "    s_best = sp.optimize.minimize(logML_mbt, initial)\n",
    "    alpha=s_best.x[0]\n",
    "    beta = s_best.x[1]\n",
    "    zipf_dt['alpha'] = alpha\n",
    "    zipf_dt['beta'] = beta\n",
    "    zipf_dt['zipflaw']=((rank+beta)**(-alpha))/np.sum(1/(rank+beta)**alpha)\n",
    "    zipf_dt['log_pro'] = np.log(probability.astype(np.float64))\n",
    "    zipf_dt['log_rank'] = np.log(rank)\n",
    "    zipf_dt['log_zipflaw'] =  -alpha*np.log(rank+beta) - np.log(np.sum(1/(rank+beta)**alpha))\n",
    "    return zipf_dt"
   ]
  },
  {
   "cell_type": "code",
   "execution_count": 105,
   "metadata": {
    "collapsed": true
   },
   "outputs": [],
   "source": [
    "for i in range (1,600):\n",
    "    dev=novice_dt.iloc[i]\n",
    "    nov_freq = dev.drop(['Author'])\n",
    "    temp2=nov_freq[nov_freq!=0].sort_values(ascending=False).reset_index()\n",
    "    frequency = temp2[temp2.columns[1]]\n",
    "    rank=np.array(range(1,len(temp2)+1))\n",
    "    initial = (1,1)\n",
    "    s_best = sp.optimize.minimize(logML_mbt, initial)\n",
    "    zipf_novice=zipf_novice.append({'alpha':s_best.x[0],'beta':s_best.x[1]},ignore_index=True)"
   ]
  },
  {
   "cell_type": "code",
   "execution_count": 260,
   "metadata": {
    "collapsed": true
   },
   "outputs": [],
   "source": [
    "zipf_expert = pd.DataFrame(columns=['alpha','beta','sample_size','rank'])"
   ]
  },
  {
   "cell_type": "code",
   "execution_count": 106,
   "metadata": {
    "collapsed": true
   },
   "outputs": [],
   "source": [
    "for i in range (1,600):\n",
    "    dev=expert_dt.iloc[i]\n",
    "    exp_freq = dev.drop(['Author'])\n",
    "    temp2=exp_freq[exp_freq!=0].sort_values(ascending=False).reset_index()\n",
    "    frequency = temp2[temp2.columns[1]]\n",
    "    rank=np.array(range(1,len(temp2)+1))\n",
    "    initial = (1,1)\n",
    "    s_best = sp.optimize.minimize(logML_mbt, initial)\n",
    "    zipf_expert=zipf_expert.append({'alpha':s_best.x[0],'beta':s_best.x[1]},ignore_index=True)"
   ]
  },
  {
   "cell_type": "code",
   "execution_count": null,
   "metadata": {
    "collapsed": true
   },
   "outputs": [],
   "source": [
    "#generate synthetic data for confidence interval\n",
    "for i in range(1,198):\n",
    "    rank=np.array(range(1,i))\n",
    "    zipf = pd.DataFrame(columns=['zipflaw'])\n",
    "    in_alpha=1.00001\n",
    "    zipf['zipflaw']=((rank)**(-in_alpha))/np.sum(1/(rank)**in_alpha)\n",
    "    test=zipf*1156\n",
    "    zipf_dt = pd.DataFrame(columns=['Frequency'])\n",
    "    #dev = dt_gby.drop(['Author'], axis=1)\n",
    "    #temp = dev.transpose()\n",
    "    #exp_freq = temp[0]\n",
    "    #temp2=exp_freq[exp_freq!=0].sort_values(ascending=False).reset_index()\n",
    "    df=test.astype(int)\n",
    "    #frequency = temp2[temp2.columns[1]]\n",
    "    frequency=df['zipflaw']\n",
    "    probability = frequency/np.sum(frequency)\n",
    "    zipf_dt['Frequency'] = frequency\n",
    "    #rank=np.array(range(1,len(temp2)+1))\n",
    "    zipf_dt['rank'] = rank\n",
    "    s_best = sp.optimize.minimize(logML, [1])\n",
    "    alpha=s_best.x\n",
    "    zipf_dt['alpha'] = alpha[0]\n",
    "    zipf_dt['zipflaw']=(rank**(-alpha))/np.sum(1/rank**alpha)\n",
    "    zipf_dt['zipf_freq']=zipf_dt['zipflaw']*np.sum(zipf_dt['Frequency'])\n",
    "    initial = (1,0)\n",
    "    mbt_best = sp.optimize.minimize(logML_mbt, initial)\n",
    "    alpha_mbt=mbt_best.x[0]\n",
    "    beta = mbt_best.x[1]\n",
    "    zipf_dt['alpha_mbt'] = alpha_mbt\n",
    "    zipf_dt['beta_mbt'] = beta\n",
    "    zipf_dt['zipf_mbt']=((rank+beta)**(-alpha_mbt))/np.sum(1/(rank+beta)**alpha_mbt)\n",
    "    zipf_dt['zipf_mbt_freq']=zipf_dt['zipf_mbt']*np.sum(zipf_dt['Frequency'])\n",
    "    zipf_dt['Probability'] = probability\n",
    "    zipf_dt['log_pro'] = np.log(probability.astype(np.float64))\n",
    "    zipf_dt['log_rank'] = np.log(rank)\n",
    "    zipf_dt['log_zipflaw'] = -alpha*np.log(rank) - np.log(np.sum(1/rank**alpha))\n",
    "    zipf_dt['log_zipf_mbt'] =  -alpha_mbt*np.log(rank+beta) - np.log(np.sum(1/(rank+beta)**alpha_mbt))"
   ]
  },
  {
   "cell_type": "code",
   "execution_count": 3020,
   "metadata": {
    "collapsed": true
   },
   "outputs": [],
   "source": [
    "def token_probability(data):\n",
    "    token_pro = pd.DataFrame(columns=['token','pro'])\n",
    "    for col in data:\n",
    "        pro=np.sum(data[col])/np.sum(data.sum())\n",
    "        token_pro = token_pro.append({'token':col, 'pro': pro},ignore_index=True)\n",
    "    return token_pro"
   ]
  },
  {
   "cell_type": "code",
   "execution_count": 3021,
   "metadata": {
    "collapsed": true
   },
   "outputs": [],
   "source": [
    "nov_dt = cv_token.drop(['Author'],axis=1)\n",
    "pro_nov = token_probability(nov_dt)"
   ]
  },
  {
   "cell_type": "code",
   "execution_count": 3225,
   "metadata": {
    "collapsed": true
   },
   "outputs": [],
   "source": [
    "dt_freq = pd.DataFrame (pr_zpf,columns=['zipflaw'])   \n",
    "df=pr_zpf.astype(int)\n",
    "exp_freq=df\n",
    "temp2=exp_freq[exp_freq!=0].sort_values(ascending=False).reset_index()\n",
    "frequency = temp2[temp2.columns[1]]\n",
    "rank=np.array(range(1,len(temp2)+1))\n",
    "s_best = sp.optimize.minimize(logML, [1])\n",
    "alpha=s_best.x"
   ]
  },
  {
   "cell_type": "code",
   "execution_count": 3233,
   "metadata": {
    "collapsed": true
   },
   "outputs": [],
   "source": [
    "y_true = np.array(frequency)"
   ]
  },
  {
   "cell_type": "code",
   "execution_count": 3227,
   "metadata": {
    "collapsed": true
   },
   "outputs": [],
   "source": [
    "pr_predict=(rank**(-alpha))/np.sum(1/rank**alpha)\n",
    "y_predicted=pr_predict*np.sum(frequency)"
   ]
  },
  {
   "cell_type": "code",
   "execution_count": 3236,
   "metadata": {
    "collapsed": true
   },
   "outputs": [],
   "source": [
    "y_predict = np.array(y_predicted)\n",
    "RSS = np.sum((y_true - y_predict)**2)\n",
    "    "
   ]
  },
  {
   "cell_type": "code",
   "execution_count": 3237,
   "metadata": {},
   "outputs": [
    {
     "data": {
      "text/plain": [
       "0.4936419158384149"
      ]
     },
     "execution_count": 3237,
     "metadata": {},
     "output_type": "execute_result"
    }
   ],
   "source": [
    "np.sqrt(RSS / (len(y_true) - 2))"
   ]
  },
  {
   "cell_type": "code",
   "execution_count": 3274,
   "metadata": {
    "collapsed": true
   },
   "outputs": [],
   "source": [
    "Corpus_1_Zipf = pd.DataFrame(columns=['size','alpha','SE','RSE'])"
   ]
  },
  {
   "cell_type": "code",
   "execution_count": 3318,
   "metadata": {
    "collapsed": true
   },
   "outputs": [],
   "source": [
    "test = pd.DataFrame(columns=['size','alpha','SE','RSE'])"
   ]
  },
  {
   "cell_type": "code",
   "execution_count": 3285,
   "metadata": {
    "collapsed": true
   },
   "outputs": [],
   "source": [
    "Corpus_9_Zipf = pd.DataFrame(columns=['size','alpha','SE','RSE'])"
   ]
  },
  {
   "cell_type": "code",
   "execution_count": 3297,
   "metadata": {
    "collapsed": true
   },
   "outputs": [],
   "source": [
    "Corpus_8_Zipf = pd.DataFrame(columns=['size','alpha','SE','RSE'])"
   ]
  },
  {
   "cell_type": "code",
   "execution_count": 3314,
   "metadata": {
    "collapsed": true
   },
   "outputs": [],
   "source": [
    "Corpus_7_Zipf = pd.DataFrame(columns=['size','alpha','SE','RSE'])"
   ]
  },
  {
   "cell_type": "code",
   "execution_count": 3319,
   "metadata": {
    "collapsed": true
   },
   "outputs": [],
   "source": [
    "keys=0"
   ]
  },
  {
   "cell_type": "code",
   "execution_count": 3327,
   "metadata": {
    "collapsed": true
   },
   "outputs": [],
   "source": [
    "for i in range (0,100):\n",
    "    keys= keys+10\n",
    "    pr_zpf=zipf['zipflaw']*keys\n",
    "    dt_freq = pd.DataFrame (pr_zpf,columns=['zipflaw'])   \n",
    "    df=pr_zpf.astype(int)\n",
    "    exp_freq=df\n",
    "    temp2=exp_freq[exp_freq!=0].sort_values(ascending=False).reset_index()\n",
    "    frequency = temp2[temp2.columns[1]]\n",
    "    rank=np.array(range(1,len(temp2)+1))\n",
    "    s_best = sp.optimize.minimize(logML, [1])\n",
    "    alpha=s_best.x\n",
    "    \n",
    "    \n",
    "    y_true = np.array(frequency)\n",
    "    pr_predict=(rank**(-alpha))/np.sum(1/rank**alpha)\n",
    "    y_predicted=pr_predict*np.sum(frequency)\n",
    "    y_predict = np.array(y_predicted)\n",
    "    RSS = np.sum((y_true - y_predict)**2)\n",
    "    rse = np.sqrt(RSS / (len(y_true) - 2))\n",
    "    \n",
    "    SE = ((alpha[0]-aph)/np.sqrt(max(rank)))\n",
    "    \n",
    "    test=test.append({'size':keys,'alpha':alpha[0],'SE':SE,'RSE': rse},ignore_index=True)"
   ]
  },
  {
   "cell_type": "code",
   "execution_count": 107,
   "metadata": {
    "collapsed": true
   },
   "outputs": [],
   "source": [
    "for i in range (0,150):\n",
    "    keys= keys+10\n",
    "    zipf_dt = pd.DataFrame(columns=['alpha','RSE','SE'])\n",
    "    for j in range(0,100):\n",
    "        r=random.choices(population=tok_exp_one,  weights=zipf['zipflaw'],k=keys)\n",
    "        #r=random.sample(list_token,keys)\n",
    "        expert_token = pd.DataFrame(0, index=np.arange(1), columns=list(tok_exp_one))\n",
    "        expert_token['Author']='dev1'\n",
    "        x=0\n",
    "        for word in r:\n",
    "            expert_token[word][x]+=1\n",
    "        dev = expert_token.drop(['Author'], axis=1)\n",
    "        temp = dev.transpose()\n",
    "        exp_freq = temp[0]\n",
    "        temp2=exp_freq[exp_freq!=0].sort_values(ascending=False).reset_index()\n",
    "        frequency = temp2[temp2.columns[1]]\n",
    "        probability = frequency/np.sum(frequency)\n",
    "        rank=np.array(range(1,len(temp2)+1))\n",
    "        s_best = sp.optimize.minimize(logML, [1])\n",
    "        alpha=s_best.x\n",
    "        zipf_dt['alpha'] = alpha[0]\n",
    "        \n",
    "        \n",
    "        y_true = np.array(frequency)\n",
    "        pr_predict=(rank**(-alpha))/np.sum(1/rank**alpha)\n",
    "        y_predicted=pr_predict*np.sum(frequency)\n",
    "        y_predict = np.array(y_predicted)\n",
    "        RSS = np.sum((y_true - y_predict)**2)\n",
    "        rse = np.sqrt(RSS / (len(y_true) - 2))\n",
    "    \n",
    "        SE = ((alpha[0]-aph)/np.sqrt(max(rank)))\n",
    "        zipf_dt=zipf_dt.append({'alpha':alpha[0],'SE':SE,'RSE': rse},ignore_index=True)\n",
    "    \n",
    "    Corpus_7_Zipf=Corpus_7_Zipf.append({'size':keys,'alpha':np.mean(abs(zipf_dt['alpha'])),'SE':np.mean(abs(zipf_dt['SE'])),\n",
    "                                        'RSE': np.mean(abs(zipf_dt['RSE']))},ignore_index=True)"
   ]
  },
  {
   "cell_type": "code",
   "execution_count": 3349,
   "metadata": {
    "collapsed": true
   },
   "outputs": [],
   "source": [
    "Corpus_7_Zipf.to_csv(r'C:\\GH-Dataset\\Corpus_7_Zipf.csv', index=None, header=True)"
   ]
  },
  {
   "cell_type": "code",
   "execution_count": 3415,
   "metadata": {
    "collapsed": true
   },
   "outputs": [],
   "source": [
    "size_SE_1=list(((abs(Corpus_1_Zipf['SE']))))"
   ]
  },
  {
   "cell_type": "code",
   "execution_count": 3278,
   "metadata": {
    "collapsed": true
   },
   "outputs": [],
   "source": [
    "size_RSE_1=list((reversed(abs(Corpus_1_Zipf['RSE']))))\n",
    "size_alpha_1=list((abs(Corpus_1_Zipf['alpha'])))"
   ]
  },
  {
   "cell_type": "code",
   "execution_count": 3345,
   "metadata": {},
   "outputs": [
    {
     "data": {
      "image/png": "[encoded data removed]",
      "text/plain": [
       "<Figure size 504x360 with 1 Axes>"
      ]
     },
     "metadata": {
      "needs_background": "light"
     },
     "output_type": "display_data"
    }
   ],
   "source": [
    "fig, ax = plt.subplots(figsize=(7,5))\n",
    "plt.plot(list(Corpus_1_Zipf['size']), size_RSE_1 ,marker='.', color='red')\n",
    "plt.plot(list(Corpus_1_Zipf['size']), size_RSE_9 ,marker='*', color='blue')\n",
    "plt.plot(list(Corpus_1_Zipf['size']), size_RSE_8 ,marker='<', color='black')\n",
    "plt.plot(list(Corpus_1_Zipf['size']), size_RSE_7 ,marker='^', color='green')\n",
    "ax.axvline(x=1156,linestyle='--',color='black')\n",
    "ax.text(1149,0.09, \"<1156\", va='center', ha=\"right\", bbox=dict(facecolor=\"w\",alpha=0.5),fontsize=13,\n",
    "        transform=ax.get_xaxis_transform())\n",
    "plt.xlabel(\"Corpus_size\",fontsize=10)\n",
    "plt.ylabel(\"RSE\",fontsize=10)\n",
    "plt.legend((r'$\\alpha=1$',r'$\\alpha=0.9$',r'$\\alpha=0.8$',r'$\\alpha=0.7$'),loc='upper right',\n",
    "           ncol=2,\n",
    "           fontsize=12)\n",
    "plt.savefig('RSE_corpus.png',dpi=900)"
   ]
  },
  {
   "cell_type": "code",
   "execution_count": 3213,
   "metadata": {
    "collapsed": true
   },
   "outputs": [],
   "source": [
    "zipf_dt = pd.DataFrame(columns=['Frequency'])\n",
    "dev = expert_token.drop(['Author'], axis=1)\n",
    "temp = dev.transpose()\n",
    "exp_freq = temp[0]\n",
    "temp2=exp_freq[exp_freq!=0].sort_values(ascending=False).reset_index()\n",
    "frequency = temp2[temp2.columns[1]]\n",
    "probability = frequency/np.sum(frequency)\n",
    "zipf_dt['Frequency'] = frequency\n",
    "zipf_dt['Probability'] = probability\n",
    "rank=np.array(range(1,len(temp2)+1))\n",
    "zipf_dt['rank'] = rank\n",
    "s_best = sp.optimize.minimize(logML, [1])\n",
    "alpha=s_best.x\n",
    "zipf_dt['alpha'] = alpha[0]\n",
    "zipf_dt['zipflaw']=(rank**(-alpha))/np.sum(1/rank**alpha)\n",
    "zipf_dt['log_pro'] = np.log(probability.astype(np.float64))\n",
    "zipf_dt['log_rank'] = np.log(rank)\n",
    "zipf_dt['log_zipflaw'] = -alpha*np.log(rank) - np.log(np.sum(1/rank**alpha))"
   ]
  },
  {
   "cell_type": "code",
   "execution_count": 711,
   "metadata": {
    "collapsed": true
   },
   "outputs": [],
   "source": [
    "ci=(alpha-1) * 1.96/(len(frequency)**0.5)"
   ]
  },
  {
   "cell_type": "code",
   "execution_count": 571,
   "metadata": {
    "collapsed": true
   },
   "outputs": [],
   "source": [
    "#1.96*((alpha-1)/np.sqrt(197))"
   ]
  },
  {
   "cell_type": "code",
   "execution_count": 301,
   "metadata": {
    "collapsed": true
   },
   "outputs": [],
   "source": [
    "def mean_confidence_interval(data, confidence=0.95):\n",
    "    a = 1.0 * np.array(data)\n",
    "    n = len(a)\n",
    "    m, se = np.mean(a), stats.sem(a)\n",
    "    h = se * stats.t.ppf((1 + confidence) / 2., n-1)\n",
    "    return m, m-h, m+h"
   ]
  },
  {
   "cell_type": "code",
   "execution_count": 408,
   "metadata": {},
   "outputs": [
    {
     "data": {
      "text/plain": [
       "(1.0170448912886185, 0.8964028200792205, 1.1376869624980166)"
      ]
     },
     "execution_count": 408,
     "metadata": {},
     "output_type": "execute_result"
    }
   ],
   "source": [
    "mean_confidence_interval(ci_dt)"
   ]
  },
  {
   "cell_type": "code",
   "execution_count": 407,
   "metadata": {
    "collapsed": true
   },
   "outputs": [],
   "source": [
    "ci_dt=np.log(pr_zpf)"
   ]
  },
  {
   "cell_type": "code",
   "execution_count": 3369,
   "metadata": {
    "collapsed": true
   },
   "outputs": [],
   "source": [
    "alpha_1_zip = pd.DataFrame(columns=['rank','alpha','alpha_mbt','beta','SE','SE_mbt','RSE','KS','p-value','d_ks','d_ks_mbt'])"
   ]
  },
  {
   "cell_type": "code",
   "execution_count": 3380,
   "metadata": {
    "collapsed": true
   },
   "outputs": [],
   "source": [
    "alpha_9_zip = pd.DataFrame(columns=['rank','alpha','alpha_mbt','beta','SE','SE_mbt','RSE','KS','p-value','d_ks','d_ks_mbt'])"
   ]
  },
  {
   "cell_type": "code",
   "execution_count": 3409,
   "metadata": {
    "collapsed": true
   },
   "outputs": [],
   "source": [
    "alpha_7_zip = pd.DataFrame(columns=['rank','alpha','alpha_mbt','beta','SE','SE_mbt','RSE','KS','p-value','d_ks','d_ks_mbt'])"
   ]
  },
  {
   "cell_type": "code",
   "execution_count": 3395,
   "metadata": {
    "collapsed": true
   },
   "outputs": [],
   "source": [
    "alpha_8_zip = pd.DataFrame(columns=['rank','alpha','alpha_mbt','beta','SE','SE_mbt','RSE','KS','p-value','d_ks','d_ks_mbt'])"
   ]
  },
  {
   "cell_type": "code",
   "execution_count": 108,
   "metadata": {
    "collapsed": true,
    "scrolled": true
   },
   "outputs": [],
   "source": [
    "for i in range(1,190):\n",
    "    r_max = 197-i\n",
    "    extra = pr_zpf[r_max:197]\n",
    "    zpf = pr_zpf[0:r_max]\n",
    "    for j in range(0,i):\n",
    "        #a= 1.0001\n",
    "        #r= np.array(range(1,r_max+1))\n",
    "        #wgt=((r)**(-a))/np.sum(1/(r)**a)\n",
    "        #wgt= np.random.normal(0,1,r_max)\n",
    "        #keys= random.choices(population=range(0,r_max),  weights=wgt,k=1)\n",
    "        up= 197-i-1\n",
    "        keys= random.randint(0,up)\n",
    "        temp=extra[j]+zpf[keys]\n",
    "        zpf[keys] = temp\n",
    "        \n",
    "    dt_freq = pd.DataFrame (zpf,columns=['frq'])   \n",
    "    df=dt_freq['frq'].astype(int)\n",
    "    exp_freq=df\n",
    "    temp2=exp_freq[exp_freq!=0].sort_values(ascending=False).reset_index()\n",
    "    frequency = temp2[temp2.columns[1]]\n",
    "    rank=np.array(range(1,len(temp2)+1))\n",
    "    s_best = sp.optimize.minimize(logML, [1])\n",
    "    alpha=s_best.x\n",
    "    \n",
    "    y_true = np.array(frequency)\n",
    "    pr_predict=(rank**(-alpha))/np.sum(1/rank**alpha)\n",
    "    y_predicted=pr_predict*np.sum(frequency)\n",
    "    y_predict = np.array(y_predicted)\n",
    "    RSS = np.sum((y_true - y_predict)**2)\n",
    "    rse = np.sqrt(RSS / (len(y_true) - 2))\n",
    "\n",
    "    diff=[]\n",
    "    cdf_pr = np.sort(zipf['zipflaw'])\n",
    "    cdf_zipf = np.sort(pr_predict)\n",
    "    df_pr_null_hyp = [norm.cdf(x) for x in cdf_pr]\n",
    "    cdf_zipf_null_hyp = [norm.cdf(x) for x in cdf_zipf]\n",
    "    zip_object = zip(df_pr_null_hyp, cdf_zipf_null_hyp)\n",
    "    for list1_i, list2_i in zip_object:\n",
    "        diff.append(abs(list1_i-list2_i))\n",
    "    d_ks=max(diff)\n",
    "    \n",
    "    initial = (1,0)\n",
    "    mbt_best = sp.optimize.minimize(logML_mbt, initial)\n",
    "    alpha_mbt=mbt_best.x[0]\n",
    "    beta = mbt_best.x[1]\n",
    "    \n",
    "    y_true = np.array(frequency)\n",
    "    pr_predict=(rank**(-alpha))/np.sum(1/rank**alpha)\n",
    "    pr_predict_mbt=((rank+beta)**(-alpha_mbt))/np.sum(1/(rank+beta)**alpha_mbt)\n",
    "    y_predicted=pr_predict*np.sum(frequency)\n",
    "    y_predict = np.array(y_predicted)\n",
    "    RSS = np.sum((y_true - y_predict)**2)\n",
    "    rse = np.sqrt(RSS / (len(y_true) - 2))\n",
    "    \n",
    "    ks,p_value= stats.ks_2samp(frequency, y_predicted , alternative='two-sided')\n",
    "    \n",
    "    diff_mbt=[]\n",
    "    cdf_pr = np.sort(zipf['zipflaw'])\n",
    "    cdf_zipf = np.sort(pr_predict_mbt)\n",
    "    df_pr_null_hyp = [norm.cdf(x) for x in cdf_pr]\n",
    "    cdf_zipf_null_hyp = [norm.cdf(x) for x in cdf_zipf]\n",
    "    zip_object = zip(df_pr_null_hyp, cdf_zipf_null_hyp)\n",
    "    for list1_i, list2_i in zip_object:\n",
    "        diff_mbt.append(abs(list1_i-list2_i))\n",
    "    d_ks_mbt=max(diff_mbt)\n",
    "    \n",
    "    \n",
    "    SE = ((alpha[0]-aph)/np.sqrt(max(rank)))\n",
    "    SE_mbt = ((alpha_mbt-aph)/np.sqrt(max(rank)))\n",
    "    alpha_7_zip=alpha_7_zip.append({'rank':max(rank),'alpha':alpha[0],'alpha_mbt':alpha_mbt,\n",
    "                        'beta':beta,'SE':SE,'SE_mbt':SE_mbt, 'RSE': rse, 'KS':ks,'p-value':p_value,\n",
    "                                   'd_ks':d_ks,'d_ks_mbt':d_ks_mbt},ignore_index=True)"
   ]
  },
  {
   "cell_type": "code",
   "execution_count": 676,
   "metadata": {
    "collapsed": true
   },
   "outputs": [],
   "source": [
    "alpha_1_zip.to_csv(r'C:\\GH-Dataset\\alpha_1_zip.csv', index=None, header=True)"
   ]
  },
  {
   "cell_type": "code",
   "execution_count": 674,
   "metadata": {
    "collapsed": true
   },
   "outputs": [],
   "source": [
    "alpha_9_zip.to_csv(r'C:\\GH-Dataset\\alpha_9_zip.csv', index=None, header=True)"
   ]
  },
  {
   "cell_type": "code",
   "execution_count": 675,
   "metadata": {
    "collapsed": true
   },
   "outputs": [],
   "source": [
    "alpha_7_zip.to_csv(r'C:\\GH-Dataset\\alpha_7_zip.csv', index=None, header=True)"
   ]
  },
  {
   "cell_type": "code",
   "execution_count": 690,
   "metadata": {
    "collapsed": true
   },
   "outputs": [],
   "source": [
    "alpha_8_zip.to_csv(r'C:\\GH-Dataset\\alpha_8_zip.csv', index=None, header=True)"
   ]
  },
  {
   "cell_type": "code",
   "execution_count": 3382,
   "metadata": {
    "collapsed": true
   },
   "outputs": [],
   "source": [
    "revers_RSE_1=list(reversed((abs(alpha_1_zip['RSE']))))\n",
    "revers_alpha_1=list(reversed(abs(alpha_1_zip['alpha'])))"
   ]
  },
  {
   "cell_type": "code",
   "execution_count": 109,
   "metadata": {},
   "outputs": [],
   "source": [
    "fig, ax = plt.subplots(1,4,figsize=(12,7))\n",
    "#plt.suptitle(\"Dev_14:zipflaw\", fontsize=12)\n",
    "plt.subplot(2, 2, 1)\n",
    "#fig = plt.figure()\n",
    "ax = fig.add_subplot(221)\n",
    "ax.plot(np.array(range(8,197)), list(revers_RSE_1),  marker='.', color='red',markersize=5)\n",
    "#ax.axhline(y=1,linestyle='--',color='black')\n",
    "ax.axvline(x=54,linestyle='--',color='black')\n",
    "ax.text(58,0.9, \">54\", va='center', ha=\"left\", bbox=dict(facecolor=\"w\",alpha=0.5),\n",
    "        transform=ax.get_xaxis_transform())\n",
    "#plt.ylim(0.2,1.2)\n",
    "plt.xlabel(\"rank\",fontsize=10)\n",
    "plt.ylabel(\"RSE\",fontsize=10)\n",
    "plt.title(r'$\\alpha$=1', fontsize=10)\n",
    "\n",
    "#------------second chart\n",
    "\n",
    "plt.subplot(2, 2, 2)\n",
    "#fig = plt.figure()\n",
    "ax = fig.add_subplot(222)\n",
    "ax.plot(np.array(range(8,197)), list(revers_RSE_9),  marker='.', color='red',markersize=5)\n",
    "#ax.axhline(y=1,linestyle='--',color='black')\n",
    "ax.axvline(x=66,linestyle='--',color='black')\n",
    "ax.text(68,0.9, \">66\", va='center', ha=\"left\", bbox=dict(facecolor=\"w\",alpha=0.5),\n",
    "        transform=ax.get_xaxis_transform())\n",
    "#plt.ylim(0.2,1.2)\n",
    "plt.xlabel(\"rank\",fontsize=10)\n",
    "#plt.ylabel(r'$\\alpha$',fontsize=10)\n",
    "plt.title(r'$\\alpha=0.9$', fontsize=10)\n",
    "\n",
    "#----------third chart\n",
    "\n",
    "plt.subplot(2, 2, 3)\n",
    "#fig = plt.figure()\n",
    "ax = fig.add_subplot(223)\n",
    "ax.plot(np.array(range(8,197)), list(revers_RSE_8),  marker='.', color='red',markersize=5)\n",
    "#ax.axhline(y=1,linestyle='--',color='black')\n",
    "ax.axvline(x=67,linestyle='--',color='black')\n",
    "ax.text(70,0.9, \">67\", va='center', ha=\"left\", bbox=dict(facecolor=\"w\",alpha=0.5),\n",
    "        transform=ax.get_xaxis_transform())\n",
    "#plt.ylim(0.2,1.2)\n",
    "plt.xlabel(\"rank\",fontsize=10)\n",
    "#plt.ylabel(r'$\\alpha$',fontsize=10)\n",
    "plt.title(r'$\\alpha=0.8$', fontsize=10)\n",
    "\n",
    "#------forth chart\n",
    "plt.subplot(2, 2, 4)\n",
    "#fig = plt.figure()\n",
    "ax = fig.add_subplot(224)\n",
    "ax.plot(np.array(range(8,197)), list(revers_RSE_7),  marker='.', color='red',markersize=5)\n",
    "#ax.axhline(y=1,linestyle='--',color='black')\n",
    "ax.axvline(x=65,linestyle='--',color='black')\n",
    "ax.text(67,0.9, \">65\", va='center', ha=\"left\", bbox=dict(facecolor=\"w\",alpha=0.5),\n",
    "        transform=ax.get_xaxis_transform())\n",
    "#plt.ylim(0.2,1.2)\n",
    "plt.xlabel(\"rank\",fontsize=10)\n",
    "#plt.ylabel(r'$\\alpha$',fontsize=10)\n",
    "plt.title(r'$\\alpha=0.7$', fontsize=10)\n",
    "plt.show()"
   ]
  },
  {
   "cell_type": "code",
   "execution_count": 110,
   "metadata": {},
   "outputs": [],
   "source": [
    "fig, ax = plt.subplots(1,4,figsize=(25,3))\n",
    "#plt.suptitle(\"Dev_14:zipflaw\", fontsize=12)\n",
    "plt.subplot(1, 4, 1)\n",
    "#fig = plt.figure()\n",
    "ax = fig.add_subplot(141)\n",
    "ax.plot(np.array(range(8,197)), list(revers_RSE_1),  marker='.', color='red',markersize=5)\n",
    "#ax.axhline(y=1,linestyle='--',color='black')\n",
    "ax.axvline(x=54,linestyle='--',color='black')\n",
    "ax.text(58,0.9, \">54\", va='center', ha=\"left\", bbox=dict(facecolor=\"w\",alpha=0.5),\n",
    "        transform=ax.get_xaxis_transform())\n",
    "#plt.ylim(0.2,1.2)\n",
    "plt.xlabel(\"rank\",fontsize=10)\n",
    "plt.ylabel(\"RSE\",fontsize=10)\n",
    "plt.title(r'$\\alpha$=1', fontsize=10)\n",
    "\n",
    "#------------second chart\n",
    "\n",
    "plt.subplot(1, 4, 2)\n",
    "#fig = plt.figure()\n",
    "ax = fig.add_subplot(142)\n",
    "ax.plot(np.array(range(8,197)), list(revers_RSE_9),  marker='.', color='red',markersize=5)\n",
    "#ax.axhline(y=1,linestyle='--',color='black')\n",
    "ax.axvline(x=66,linestyle='--',color='black')\n",
    "ax.text(68,0.9, \">66\", va='center', ha=\"left\", bbox=dict(facecolor=\"w\",alpha=0.5),\n",
    "        transform=ax.get_xaxis_transform())\n",
    "#plt.ylim(0.2,1.2)\n",
    "plt.xlabel(\"rank\",fontsize=10)\n",
    "#plt.ylabel(r'$\\alpha$',fontsize=10)\n",
    "plt.title(r'$\\alpha=0.9$', fontsize=10)\n",
    "\n",
    "#----------third chart\n",
    "\n",
    "plt.subplot(1, 4, 3)\n",
    "#fig = plt.figure()\n",
    "ax = fig.add_subplot(143)\n",
    "ax.plot(np.array(range(8,197)), list(revers_RSE_8),  marker='.', color='red',markersize=5)\n",
    "#ax.axhline(y=1,linestyle='--',color='black')\n",
    "ax.axvline(x=67,linestyle='--',color='black')\n",
    "ax.text(70,0.9, \">67\", va='center', ha=\"left\", bbox=dict(facecolor=\"w\",alpha=0.5),\n",
    "        transform=ax.get_xaxis_transform())\n",
    "#plt.ylim(0.2,1.2)\n",
    "plt.xlabel(\"rank\",fontsize=10)\n",
    "#plt.ylabel(r'$\\alpha$',fontsize=10)\n",
    "plt.title(r'$\\alpha=0.8$', fontsize=10)\n",
    "\n",
    "#------forth chart\n",
    "plt.subplot(1, 4, 4)\n",
    "#fig = plt.figure()\n",
    "ax = fig.add_subplot(144)\n",
    "ax.plot(np.array(range(8,197)), list(revers_RSE_1),  marker='.', color='red',markersize=5)\n",
    "#ax.axhline(y=1,linestyle='--',color='black')\n",
    "ax.axvline(x=65,linestyle='--',color='black')\n",
    "ax.text(67,0.9, \">65\", va='center', ha=\"left\", bbox=dict(facecolor=\"w\",alpha=0.5),\n",
    "        transform=ax.get_xaxis_transform())\n",
    "#plt.ylim(0.2,1.2)\n",
    "plt.xlabel(\"rank\",fontsize=10)\n",
    "#plt.ylabel(r'$\\alpha$',fontsize=10)\n",
    "plt.title(r'$\\alpha=0.7$', fontsize=10)\n",
    "plt.show()"
   ]
  },
  {
   "cell_type": "code",
   "execution_count": 3413,
   "metadata": {},
   "outputs": [
    {
     "data": {
      "text/plain": [
       "<matplotlib.legend.Legend at 0x2360ab7c688>"
      ]
     },
     "execution_count": 3413,
     "metadata": {},
     "output_type": "execute_result"
    },
    {
     "data": {
      "image/png": "[encoded data removed]",
      "text/plain": [
       "<Figure size 504x360 with 1 Axes>"
      ]
     },
     "metadata": {
      "needs_background": "light"
     },
     "output_type": "display_data"
    }
   ],
   "source": [
    "fig, ax = plt.subplots(figsize=(7,5))\n",
    "plt.plot(np.array(range(8,197)), list(revers_SE_1) ,marker='.', color='red',markersize=5)\n",
    "plt.plot(np.array(range(8,197)), list(revers_SE_9) ,marker='*', color='blue',markersize=5)\n",
    "plt.plot(np.array(range(8,197)), list(revers_SE_8) ,marker='<', color='black',markersize=5)\n",
    "plt.plot(np.array(range(8,197)), list(revers_SE_7) ,marker='^', color='green',markersize=5)\n",
    "ax.axvline(x=63,linestyle='--',color='black')\n",
    "ax.text(60,0.9, \"<63\", va='center', ha=\"right\", bbox=dict(facecolor=\"w\",alpha=0.5),fontsize=13,\n",
    "        transform=ax.get_xaxis_transform())\n",
    "plt.xlabel(\"rank\",fontsize=10)\n",
    "plt.ylabel(\"SE\",fontsize=10)\n",
    "plt.legend((r'$\\alpha=1$',r'$\\alpha=0.9$',r'$\\alpha=0.8$',r'$\\alpha=0.7$'),loc='upper right',\n",
    "           ncol=2,\n",
    "           fontsize=12)\n",
    "#plt.savefig('RSE_q.png',dpi=900)"
   ]
  },
  {
   "cell_type": "code",
   "execution_count": 669,
   "metadata": {
    "collapsed": true
   },
   "outputs": [],
   "source": [
    "d_ks=max(abs(zipf_dt['cdf_pro']-zipf_dt['cdf_zipf']))"
   ]
  }
 ],
 "metadata": {
  "kernelspec": {
   "display_name": "Python 3",
   "language": "python",
   "name": "python3"
  },
  "language_info": {
   "codemirror_mode": {
    "name": "ipython",
    "version": 3
   },
   "file_extension": ".py",
   "mimetype": "text/x-python",
   "name": "python",
   "nbconvert_exporter": "python",
   "pygments_lexer": "ipython3",
   "version": "3.7.4"
  }
 },
 "nbformat": 4,
 "nbformat_minor": 2
}
